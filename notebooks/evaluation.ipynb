{
 "cells": [
  {
   "cell_type": "markdown",
   "id": "b91d7675",
   "metadata": {},
   "source": [
    "#### Baseline:\n",
    "Qwen2.5-Qwen2.5-Coder-7B-Instruct"
   ]
  },
  {
   "cell_type": "code",
   "execution_count": null,
   "id": "a001a6c1",
   "metadata": {},
   "outputs": [
    {
     "name": "stdout",
     "output_type": "stream",
     "text": [
      "\n",
      "📊 Accuracy by Task Type:\n",
      "\n",
      "  Task Type  Accuracy\n",
      "measurement    35.42%\n",
      " arithmetic    19.48%\n",
      "    numbers    12.24%\n",
      " comparison    11.54%\n",
      "    algebra    10.49%\n",
      "   calculus     5.26%\n",
      "polynomials     2.63%\n",
      "probability     0.00%\n"
     ]
    },
    {
     "name": "stderr",
     "output_type": "stream",
     "text": [
      "/var/folders/gg/wqlmrvl91mj28lsltv0ccxqm0000gn/T/ipykernel_93006/3788320724.py:53: FutureWarning: \n",
      "\n",
      "Passing `palette` without assigning `hue` is deprecated and will be removed in v0.14.0. Assign the `y` variable to `hue` and set `legend=False` for the same effect.\n",
      "\n",
      "  sns.barplot(x=accuracy_by_task_type.values, y=accuracy_by_task_type.index, palette='viridis')\n"
     ]
    },
    {
     "data": {
      "image/png": "[encoded data removed]",
      "text/plain": [
       "<Figure size 1200x600 with 1 Axes>"
      ]
     },
     "metadata": {},
     "output_type": "display_data"
    },
    {
     "name": "stdout",
     "output_type": "stream",
     "text": [
      "\n",
      "🔹 Total tasks: 1214\n",
      "🔹 Raw accuracy: 12.19%\n",
      "🔹 Adjusted accuracy (with float match errors): 13.67%\n",
      "🔹 Float match errors (marked incorrect): 18\n",
      "🔹 Empty answers: 0\n"
     ]
    }
   ],
   "source": [
    "import pandas as pd\n",
    "import numpy as np\n",
    "import matplotlib.pyplot as plt\n",
    "import seaborn as sns\n",
    "\n",
    "df = pd.read_csv('../results/baseline/baseline_results.csv')\n",
    "\n",
    "df['task_type'] = df['file'].apply(lambda x: x.split('__')[0] if '__' in x else x.split('.')[0])\n",
    "\n",
    "def try_parse_float(value):\n",
    "    try:\n",
    "        return float(value)\n",
    "    except:\n",
    "        return None\n",
    "\n",
    "df['gt_float'] = df['gt_answer'].apply(try_parse_float)\n",
    "df['llm_float'] = df['llm_answer'].apply(try_parse_float)\n",
    "\n",
    "total_tasks = len(df)\n",
    "\n",
    "overall_accuracy = df['correct'].mean()\n",
    "accuracy_by_task_type = df.groupby('task_type')['correct'].mean().sort_values(ascending=False)\n",
    "\n",
    "float_match_errors = df[\n",
    "    (~df['correct']) &\n",
    "    (df['gt_float'].notna()) &\n",
    "    (df['llm_float'].notna()) &\n",
    "    (np.isclose(df['gt_float'], df['llm_float'], atol=1e-4))\n",
    "]\n",
    "num_float_match_errors = len(float_match_errors)\n",
    "\n",
    "adjusted_correct = df['correct'].sum() + num_float_match_errors\n",
    "adjusted_accuracy = adjusted_correct / total_tasks\n",
    "\n",
    "num_empty_answers = df['llm_answer'].isna().sum() + (df['llm_answer'].astype(str).str.strip() == '').sum()\n",
    "\n",
    "accuracy_table = accuracy_by_task_type.reset_index()\n",
    "accuracy_table.columns = ['Task Type', 'Accuracy']\n",
    "print(\"\\n📊 Accuracy by Task Type:\\n\")\n",
    "print(accuracy_table.to_string(index=False, float_format=\"{:.2%}\".format))\n",
    "\n",
    "plt.figure(figsize=(12, 6))\n",
    "sns.barplot(x=accuracy_by_task_type.values, y=accuracy_by_task_type.index, palette='viridis')\n",
    "plt.xlabel('Accuracy')\n",
    "plt.ylabel('Task Type')\n",
    "plt.title('Accuracy by Task Type')\n",
    "plt.grid(True)\n",
    "plt.tight_layout()\n",
    "plt.show()\n",
    "\n",
    "print(f'\\n🔹 Total tasks: {total_tasks}')\n",
    "print(f'🔹 Raw accuracy: {overall_accuracy:.2%}')\n",
    "print(f'🔹 Adjusted accuracy (with float match errors): {adjusted_accuracy:.2%}')\n",
    "print(f'🔹 Float match errors (marked incorrect): {num_float_match_errors}')\n",
    "print(f'🔹 Empty answers: {num_empty_answers}')\n"
   ]
  },
  {
   "cell_type": "markdown",
   "id": "5fdb3477",
   "metadata": {},
   "source": [
    "#### Agent with code execution"
   ]
  },
  {
   "cell_type": "code",
   "execution_count": null,
   "id": "6aa50b08",
   "metadata": {},
   "outputs": [],
   "source": [
    "import importlib.util\n",
    "import sys\n",
    "import os\n",
    "import glob\n",
    "import matplotlib.pyplot as plt\n",
    "\n",
    "script_path = \"../eval_agent/get_error_statistic.py\"\n",
    "module_name = \"get_error_statistic\"\n",
    "\n",
    "spec = importlib.util.spec_from_file_location(module_name, script_path)\n",
    "module = importlib.util.module_from_spec(spec)\n",
    "sys.modules[module_name] = module\n",
    "spec.loader.exec_module(module)\n"
   ]
  },
  {
   "cell_type": "code",
   "execution_count": 40,
   "id": "09d16fd2",
   "metadata": {},
   "outputs": [
    {
     "name": "stdout",
     "output_type": "stream",
     "text": [
      "🔍 Found: 4\n"
     ]
    }
   ],
   "source": [
    "folder = \"../results/code_eval\"\n",
    "prefix = \"train_\"\n",
    "pattern = os.path.join(folder, f\"{prefix}*.json\")\n",
    "files = glob.glob(pattern)\n",
    "\n",
    "print(f\"🔍 Found: {len(files)}\")\n",
    "\n",
    "from collections import defaultdict\n",
    "\n",
    "category_totals = defaultdict(lambda: defaultdict(int))\n",
    "\n",
    "for filepath in files:\n",
    "    stats, cuda_oom, too_many_steps, digits_error = module.analyze_file(filepath)\n",
    "    for cat, data in stats.items():\n",
    "        for key, value in data.items():\n",
    "            category_totals[cat][key] += value\n"
   ]
  },
  {
   "cell_type": "code",
   "execution_count": 41,
   "id": "557c80d1",
   "metadata": {},
   "outputs": [
    {
     "name": "stderr",
     "output_type": "stream",
     "text": [
      "/var/folders/gg/wqlmrvl91mj28lsltv0ccxqm0000gn/T/ipykernel_93006/2387955351.py:29: UserWarning: Glyph 129518 (\\N{ABACUS}) missing from font(s) Arial.\n",
      "  plt.tight_layout()\n",
      "/Users/diana/Library/Python/3.13/lib/python/site-packages/IPython/core/pylabtools.py:170: UserWarning: Glyph 129518 (\\N{ABACUS}) missing from font(s) Arial.\n",
      "  fig.canvas.print_figure(bytes_io, **kw)\n"
     ]
    },
    {
     "data": {
      "image/png": "[encoded data removed]",
      "text/plain": [
       "<Figure size 1400x600 with 1 Axes>"
      ]
     },
     "metadata": {},
     "output_type": "display_data"
    },
    {
     "name": "stderr",
     "output_type": "stream",
     "text": [
      "/var/folders/gg/wqlmrvl91mj28lsltv0ccxqm0000gn/T/ipykernel_93006/2387955351.py:35: SettingWithCopyWarning: \n",
      "A value is trying to be set on a copy of a slice from a DataFrame.\n",
      "Try using .loc[row_indexer,col_indexer] = value instead\n",
      "\n",
      "See the caveats in the documentation: https://pandas.pydata.org/pandas-docs/stable/user_guide/indexing.html#returning-a-view-versus-a-copy\n",
      "  numeric_table['total_errors'] = numeric_table[error_types].sum(axis=1)\n"
     ]
    },
    {
     "data": {
      "text/html": [
       "<div>\n",
       "<style scoped>\n",
       "    .dataframe tbody tr th:only-of-type {\n",
       "        vertical-align: middle;\n",
       "    }\n",
       "\n",
       "    .dataframe tbody tr th {\n",
       "        vertical-align: top;\n",
       "    }\n",
       "\n",
       "    .dataframe thead th {\n",
       "        text-align: right;\n",
       "    }\n",
       "</style>\n",
       "<table border=\"1\" class=\"dataframe\">\n",
       "  <thead>\n",
       "    <tr style=\"text-align: right;\">\n",
       "      <th></th>\n",
       "      <th>errors</th>\n",
       "      <th>cuda_oom</th>\n",
       "      <th>digits_error</th>\n",
       "      <th>total</th>\n",
       "      <th>total_errors</th>\n",
       "    </tr>\n",
       "  </thead>\n",
       "  <tbody>\n",
       "    <tr>\n",
       "      <th>numbers</th>\n",
       "      <td>67</td>\n",
       "      <td>16</td>\n",
       "      <td>9</td>\n",
       "      <td>173</td>\n",
       "      <td>92</td>\n",
       "    </tr>\n",
       "    <tr>\n",
       "      <th>arithmetic</th>\n",
       "      <td>34</td>\n",
       "      <td>3</td>\n",
       "      <td>36</td>\n",
       "      <td>141</td>\n",
       "      <td>73</td>\n",
       "    </tr>\n",
       "    <tr>\n",
       "      <th>algebra</th>\n",
       "      <td>54</td>\n",
       "      <td>5</td>\n",
       "      <td>6</td>\n",
       "      <td>82</td>\n",
       "      <td>65</td>\n",
       "    </tr>\n",
       "    <tr>\n",
       "      <th>comparison</th>\n",
       "      <td>58</td>\n",
       "      <td>4</td>\n",
       "      <td>0</td>\n",
       "      <td>102</td>\n",
       "      <td>62</td>\n",
       "    </tr>\n",
       "    <tr>\n",
       "      <th>polynomials</th>\n",
       "      <td>35</td>\n",
       "      <td>7</td>\n",
       "      <td>1</td>\n",
       "      <td>72</td>\n",
       "      <td>43</td>\n",
       "    </tr>\n",
       "    <tr>\n",
       "      <th>probability</th>\n",
       "      <td>37</td>\n",
       "      <td>0</td>\n",
       "      <td>1</td>\n",
       "      <td>38</td>\n",
       "      <td>38</td>\n",
       "    </tr>\n",
       "    <tr>\n",
       "      <th>measurement</th>\n",
       "      <td>6</td>\n",
       "      <td>0</td>\n",
       "      <td>11</td>\n",
       "      <td>28</td>\n",
       "      <td>17</td>\n",
       "    </tr>\n",
       "    <tr>\n",
       "      <th>calculus</th>\n",
       "      <td>6</td>\n",
       "      <td>1</td>\n",
       "      <td>0</td>\n",
       "      <td>18</td>\n",
       "      <td>7</td>\n",
       "    </tr>\n",
       "  </tbody>\n",
       "</table>\n",
       "</div>"
      ],
      "text/plain": [
       "             errors  cuda_oom  digits_error  total  total_errors\n",
       "numbers          67        16             9    173            92\n",
       "arithmetic       34         3            36    141            73\n",
       "algebra          54         5             6     82            65\n",
       "comparison       58         4             0    102            62\n",
       "polynomials      35         7             1     72            43\n",
       "probability      37         0             1     38            38\n",
       "measurement       6         0            11     28            17\n",
       "calculus          6         1             0     18             7"
      ]
     },
     "metadata": {},
     "output_type": "display_data"
    }
   ],
   "source": [
    "from IPython.display import display\n",
    "\n",
    "\n",
    "df_stats = pd.DataFrame.from_dict(category_totals, orient='index')\n",
    "df_stats = df_stats.sort_values('total', ascending=False)\n",
    "\n",
    "\n",
    "error_types = ['errors', 'cuda_oom', 'digits_error']\n",
    "df_stats_plot = df_stats[error_types].copy()\n",
    "df_stats_plot['category'] = df_stats_plot.index\n",
    "df_stats_plot = df_stats_plot.reset_index(drop=True)\n",
    "\n",
    "\n",
    "plt.figure(figsize=(14, 6))\n",
    "barplot = sns.barplot(\n",
    "    data=pd.melt(df_stats_plot, id_vars='category', value_vars=error_types),\n",
    "    x='category', y='value', hue='variable', palette='tab10'\n",
    ")\n",
    "plt.title(\"🧮 Errors by categories\", fontsize=16)\n",
    "plt.xlabel(\"Category\")\n",
    "plt.ylabel(\"Count\")\n",
    "plt.xticks(rotation=45)\n",
    "plt.grid(axis='y', linestyle='--', alpha=0.6)\n",
    "\n",
    "\n",
    "for container in barplot.containers:\n",
    "    barplot.bar_label(container, fmt='%d', label_type='edge', fontsize=9)\n",
    "\n",
    "plt.tight_layout()\n",
    "plt.legend(title='Error type')\n",
    "plt.show()\n",
    "\n",
    "\n",
    "numeric_table = df_stats[error_types + ['total']]\n",
    "numeric_table['total_errors'] = numeric_table[error_types].sum(axis=1)\n",
    "numeric_table = numeric_table.sort_values('total_errors', ascending=False)\n",
    "\n",
    "display(numeric_table)\n"
   ]
  },
  {
   "cell_type": "code",
   "execution_count": 42,
   "id": "21dd7f0a",
   "metadata": {},
   "outputs": [
    {
     "name": "stdout",
     "output_type": "stream",
     "text": [
      "✅ Total number: 654\n",
      "✅ Correct answers: 357 (54.59%)\n",
      "✅ Correct with equivivalence for 25.0 and 25: 421 (64.37%)\n"
     ]
    }
   ],
   "source": [
    "total_tasks = df_stats['total'].sum()\n",
    "total_correct = df_stats['total'].sum() - df_stats['errors'].sum()\n",
    "total_correct_with_equiv = total_correct + df_stats['digits_error'].sum()\n",
    "\n",
    "\n",
    "accuracy = total_correct / total_tasks * 100\n",
    "accuracy_with_equiv = total_correct_with_equiv / total_tasks * 100\n",
    "\n",
    "print(f\"✅ Total number: {total_tasks}\")\n",
    "print(f\"✅ Correct answers: {total_correct} ({accuracy:.2f}%)\")\n",
    "print(f\"✅ Correct with equivivalence for 25.0 and 25: {total_correct_with_equiv} ({accuracy_with_equiv:.2f}%)\")\n"
   ]
  },
  {
   "cell_type": "code",
   "execution_count": 31,
   "id": "d28c4725",
   "metadata": {},
   "outputs": [
    {
     "name": "stdout",
     "output_type": "stream",
     "text": [
      "Found files: 4\n"
     ]
    }
   ],
   "source": [
    "import os, json\n",
    "from math import isclose\n",
    "from collections import defaultdict\n",
    "\n",
    "def is_equivalent(a, b, tol=1e-6):\n",
    "    try:\n",
    "        return isclose(float(a), float(b), abs_tol=tol)\n",
    "    except:\n",
    "        return str(a).strip() == str(b).strip()\n",
    "\n",
    "\n",
    "eval_folder = \"../results/code_eval\"\n",
    "eval_files = glob.glob(os.path.join(eval_folder, \"math_*.json\"))\n",
    "\n",
    "print(f\"Found files: {len(eval_files)}\")\n",
    "\n",
    "# Статистика по всем файлам\n",
    "overall_stats = defaultdict(int)\n",
    "\n",
    "for file in eval_files:\n",
    "    with open(file, \"r\") as f:\n",
    "        data = json.load(f)\n",
    "    \n",
    "    stats = data.get(\"statistics\", {})\n",
    "    details = stats.get(\"details\", [])\n",
    "\n",
    "    overall_stats[\"total\"] += stats.get(\"total\", len(details))\n",
    "    overall_stats[\"correct\"] += stats.get(\"correct\", 0)\n",
    "    overall_stats[\"incorrect\"] += stats.get(\"incorrect\", 0)\n",
    "    overall_stats[\"no_answer\"] += stats.get(\"no_answer\", 0)\n",
    "    overall_stats[\"api_errors\"] += stats.get(\"api_errors\", 0)\n",
    "\n",
    "    # Добавим \"essentially correct\"\n",
    "    for item in details:\n",
    "        expected = item.get(\"expected\", \"\").strip()\n",
    "        predicted = item.get(\"predicted\", \"\").strip()\n",
    "        verdict = item.get(\"verdict\", \"\").upper()\n",
    "\n",
    "        if verdict == \"CORRECT\":\n",
    "            overall_stats[\"essentially_correct\"] += 1\n",
    "        elif is_equivalent(expected, predicted):\n",
    "            overall_stats[\"essentially_correct\"] += 1\n"
   ]
  },
  {
   "cell_type": "code",
   "execution_count": 34,
   "id": "a69b8c19",
   "metadata": {},
   "outputs": [
    {
     "name": "stdout",
     "output_type": "stream",
     "text": [
      "Statistic:\n",
      "total                     654\n",
      "correct                   464\n",
      "incorrect                 190\n",
      "no_answer                 0\n",
      "api_errors                0\n",
      "essentially_correct       466\n",
      "\n",
      "✅ Correct: 70.95%\n"
     ]
    }
   ],
   "source": [
    "print(\"Statistic:\")\n",
    "for k, v in overall_stats.items():\n",
    "    print(f\"{k:25} {v}\")\n",
    "\n",
    "\n",
    "total = overall_stats[\"total\"]\n",
    "percent_correct = overall_stats[\"correct\"] / total * 100\n",
    "\n",
    "print(f\"\\n✅ Correct: {percent_correct:.2f}%\")\n"
   ]
  },
  {
   "cell_type": "markdown",
   "id": "0c50a88b",
   "metadata": {},
   "source": [
    "#### Agent with code execution + feedback"
   ]
  },
  {
   "cell_type": "code",
   "execution_count": null,
   "id": "691c915e",
   "metadata": {},
   "outputs": [],
   "source": []
  }
 ],
 "metadata": {
  "kernelspec": {
   "display_name": "Python 3",
   "language": "python",
   "name": "python3"
  },
  "language_info": {
   "codemirror_mode": {
    "name": "ipython",
    "version": 3
   },
   "file_extension": ".py",
   "mimetype": "text/x-python",
   "name": "python",
   "nbconvert_exporter": "python",
   "pygments_lexer": "ipython3",
   "version": "3.13.3"
  }
 },
 "nbformat": 4,
 "nbformat_minor": 5
}
